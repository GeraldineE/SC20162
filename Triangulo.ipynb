{
 "cells": [
  {
   "cell_type": "code",
   "execution_count": null,
   "metadata": {
    "collapsed": false,
    "scrolled": true
   },
   "outputs": [],
   "source": [
    "import matplotlib.pyplot as plt\n",
    "import matplotlib.patches as mpatches\n",
    "import numpy as np\n",
    "\n",
    "def los(P):\n",
    "    m = P * 0.5\n",
    "    n = P * 0.5 + np.array([0.5, 0])\n",
    "    k = P * 0.5 + np.array([0.25, np.sqrt(3)/4])\n",
    "    return np.array([m,n,k])\n",
    "\n",
    "\n",
    "# triangulo unitario inicial\n",
    "triangle = np.array([[0, 0],\n",
    "              [1, 0],\n",
    "              [0.5, np.sqrt(3)/2]])\n",
    "\n",
    "# Crea un array que representa el triangulo Sierpinski hasta la etapa deseada\n",
    "etapa = 5\n",
    "for e in range(etapa):\n",
    "    triangle = los(triangle)\n",
    "# Se procede a graficar el triangulo\n",
    "fig1 = plt.figure()\n",
    "ax1 = fig1.add_subplot(111, aspect='equal')\n",
    "for t in triangle.reshape(3**etapa,3,2):\n",
    "    ax1.add_patch(mpatches.Polygon(t, fc=\"y\"))\n",
    "\n",
    "plt.show()"
   ]
  },
  {
   "cell_type": "code",
   "execution_count": null,
   "metadata": {
    "collapsed": false
   },
   "outputs": [],
   "source": [
    "\n",
    "import matplotlib\n",
    "import matplotlib.pyplot as plt\n",
    "import random\n",
    "\n",
    "\n",
    "x1 = [1,1]\n",
    "x2 = [2,3]\n",
    "x3 = [3,1]\n",
    "n = 40000\n",
    "\n",
    "\n",
    "p = [1,1]\n",
    "rst = []\n",
    "rst2 = []\n",
    "for i in range(n):\n",
    "    r = int(random.random()*3)\n",
    "    if r==0:\n",
    "        x=(x1[0]+p[0])*0.5\n",
    "        y=(x1[1]+p[1])*0.5\n",
    "    elif r==1:\n",
    "        x=(x2[0]+p[0])*0.5\n",
    "        y=(x2[1]+p[1])*0.5\n",
    "    elif r==2:\n",
    "        x=(x3[0]+p[0])*0.5\n",
    "        y=(x3[1]+p[1])*0.5\n",
    "    rst += [x]\n",
    "    rst2 += [y]\n",
    "    p = [x,y]\n",
    "plt.plot(rst,rst2,'g''.')\n",
    "plt.show()\n",
    "\n"
   ]
  },
  {
   "cell_type": "code",
   "execution_count": null,
   "metadata": {
    "collapsed": false
   },
   "outputs": [],
   "source": []
  },
  {
   "cell_type": "markdown",
   "metadata": {},
   "source": []
  }
 ],
 "metadata": {
  "kernelspec": {
   "display_name": "Python 2",
   "language": "python",
   "name": "python2"
  },
  "language_info": {
   "codemirror_mode": {
    "name": "ipython",
    "version": 2
   },
   "file_extension": ".py",
   "mimetype": "text/x-python",
   "name": "python",
   "nbconvert_exporter": "python",
   "pygments_lexer": "ipython2",
   "version": "2.7.10"
  }
 },
 "nbformat": 4,
 "nbformat_minor": 0
}
